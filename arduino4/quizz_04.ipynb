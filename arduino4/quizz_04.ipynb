{
  "nbformat": 4,
  "nbformat_minor": 0,
  "metadata": {
    "colab": {
      "name": "quizz_04.ipynb",
      "provenance": []
    },
    "kernelspec": {
      "name": "python3",
      "display_name": "Python 3"
    }
  },
  "cells": [
    {
      "cell_type": "markdown",
      "metadata": {
        "id": "LWP0NWtGFLMZ"
      },
      "source": [
        "# **Module 4 Quiz**"
      ]
    },
    {
      "cell_type": "markdown",
      "metadata": {
        "id": "y8Q0ZgvAFOJj"
      },
      "source": [
        "**1. In a communication over the Internet, how is the “port” number used?**\n",
        "\n",
        "Answer: c. to identify the application protocol being used\n",
        "\n"
      ]
    },
    {
      "cell_type": "markdown",
      "metadata": {
        "id": "VAvvIwXUFzyy"
      },
      "source": [
        "\n",
        "**2. The Domain Name Service is:**\n",
        "\n",
        "Answer: b. a service to map domain names to IP addresses\n",
        "\n"
      ]
    },
    {
      "cell_type": "markdown",
      "metadata": {
        "id": "G1zq_EZMF8oZ"
      },
      "source": [
        "\n",
        "**3. Which of the following is NOT an argument to the Ethernet.begin() function?**\n",
        "\n",
        "Answer: c. Local processor\n"
      ]
    },
    {
      "cell_type": "markdown",
      "metadata": {
        "id": "20qjntEhF-A7"
      },
      "source": [
        "\n",
        "**4. DHCP is:**\n",
        "\n",
        "Answer: a. a protocol to assign IP addresses to network nodes\n"
      ]
    },
    {
      "cell_type": "markdown",
      "metadata": {
        "id": "iRbLU6BYF_i9"
      },
      "source": [
        "\n",
        "**5. What is NOT a type of encryption used in WiFi today?**\n",
        "\n",
        "Answer: c. WPC\n"
      ]
    },
    {
      "cell_type": "markdown",
      "metadata": {
        "id": "l2XAR4ZsGBnG"
      },
      "source": [
        "\n",
        "**6. True or False: The SSID of a WiFi network is the name of the network.**\n",
        "\n",
        "Answer: True\n"
      ]
    },
    {
      "cell_type": "markdown",
      "metadata": {
        "id": "fGwmMGn-GDYL"
      },
      "source": [
        "\n",
        "**7. True or False: An Ethernet client does not send data to an Ethernet server.**\n",
        "\n",
        "Answer: False\n"
      ]
    },
    {
      "cell_type": "markdown",
      "metadata": {
        "id": "9DTKjmYeGEuA"
      },
      "source": [
        "**8. True or False: A MAC address is unique for each network adapter.**\n",
        "\n",
        "Answer: True"
      ]
    }
  ]
}