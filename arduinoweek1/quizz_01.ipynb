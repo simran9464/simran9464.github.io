{
  "nbformat": 4,
  "nbformat_minor": 0,
  "metadata": {
    "colab": {
      "name": "quizz_01.ipynb",
      "provenance": []
    },
    "kernelspec": {
      "name": "python3",
      "display_name": "Python 3"
    }
  },
  "cells": [
    {
      "cell_type": "markdown",
      "metadata": {
        "id": "sLZKkE7Q7twA"
      },
      "source": [
        "# **Module 1 Quiz**"
      ]
    },
    {
      "cell_type": "markdown",
      "metadata": {
        "id": "Zx2o3LgZ7yvX"
      },
      "source": [
        "**1. Pressure in a water pump system is analogous to what concept in an electrical circuit?**\n",
        "\n",
        "Answer: b. voltage"
      ]
    },
    {
      "cell_type": "markdown",
      "metadata": {
        "id": "fI8DvdEa79kK"
      },
      "source": [
        "\n",
        "**2. A narrow pipe in a water system is analogous to what concept in an electrical circuit?**\n",
        "\n",
        "Answer: a. resistance"
      ]
    },
    {
      "cell_type": "markdown",
      "metadata": {
        "id": "mxIkY6uB8Byd"
      },
      "source": [
        "**3. Electrical current is measured in:**\n",
        "\n",
        "Answer: c. Amperes"
      ]
    },
    {
      "cell_type": "markdown",
      "metadata": {
        "id": "zcKzHBaX8I83"
      },
      "source": [
        "**4. Electrical resistance is measured in:**\n",
        "\n",
        "Answer: a. Ohms"
      ]
    },
    {
      "cell_type": "markdown",
      "metadata": {
        "id": "OGDiEcpl8OQb"
      },
      "source": [
        "**5. An LED is reverse-biased when:**\n",
        "\n",
        "Answer: d. the anode is negative with respect to the cathode"
      ]
    },
    {
      "cell_type": "markdown",
      "metadata": {
        "id": "nS54f_0B8XFT"
      },
      "source": [
        "**6. The function of a potentiometer is to:**\n",
        "\n",
        "Answer: c. vary the resistance between points in the circuit"
      ]
    },
    {
      "cell_type": "markdown",
      "metadata": {
        "id": "aRGFOsXn8bNH"
      },
      "source": [
        "**7. True or False: All of the holes in a column on the side of a breadboard are electrically connected.**\n",
        "\n",
        "Answer: True"
      ]
    },
    {
      "cell_type": "markdown",
      "metadata": {
        "id": "av585hFP8fWb"
      },
      "source": [
        "**8. True or False: When resistance increases and current is held constant, voltage also increases.**\n",
        "\n",
        "Answer: True"
      ]
    }
  ]
}