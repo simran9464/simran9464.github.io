{
  "nbformat": 4,
  "nbformat_minor": 0,
  "metadata": {
    "colab": {
      "name": "quizz_02.ipynb",
      "provenance": []
    },
    "kernelspec": {
      "name": "python3",
      "display_name": "Python 3"
    }
  },
  "cells": [
    {
      "cell_type": "markdown",
      "metadata": {
        "id": "ukNmqV_29_92"
      },
      "source": [
        "# **Module 2 Quiz**"
      ]
    },
    {
      "cell_type": "markdown",
      "metadata": {
        "id": "45kG5JOv-CRR"
      },
      "source": [
        "**1. Which Arduino function can be used to read information from a sensor?**\n",
        "\n",
        "Answer: c. digitalRead()"
      ]
    },
    {
      "cell_type": "markdown",
      "metadata": {
        "id": "JioRTntz-YQg"
      },
      "source": [
        "**2. A photoresistor:**\n",
        "\n",
        "Answer: d. changes resistance according to light level"
      ]
    },
    {
      "cell_type": "markdown",
      "metadata": {
        "id": "RglFY-eg-a6E"
      },
      "source": [
        "\n",
        "**3. A voltage divider is:**\n",
        "\n",
        "Answer: c. a circuit that contains resistors connected in series"
      ]
    },
    {
      "cell_type": "markdown",
      "metadata": {
        "id": "xI3Gu2Rh-dBh"
      },
      "source": [
        "**4. True or False: A voltage-controlling sensor can be read by an Arduino using the analogRead() function.**\n",
        "\n",
        "Answer: True"
      ]
    },
    {
      "cell_type": "markdown",
      "metadata": {
        "id": "J7Jy66hT-ekx"
      },
      "source": [
        "\n",
        "**5. In order to perform On-Off actuation, the following Arduino command might be used:**\n",
        "\n",
        "Answer: c. digitalWrite()"
      ]
    },
    {
      "cell_type": "markdown",
      "metadata": {
        "id": "w48jyDd4-gax"
      },
      "source": [
        "**6. The function of a Digital to Analog Converter is:**\n",
        "\n",
        "Answer: a. to generate an analog voltage from digital signals"
      ]
    },
    {
      "cell_type": "markdown",
      "metadata": {
        "id": "aeJ1LA5o-iAa"
      },
      "source": [
        "\n",
        "**7. Which Arduino command is used to generate a pulse width modulated signal?**\n",
        "\n",
        "Answer: a. analogWrite()"
      ]
    },
    {
      "cell_type": "markdown",
      "metadata": {
        "id": "-MYnKI6S-jOk"
      },
      "source": [
        "\n",
        "**8. The duty cycle of a signal describes:**\n",
        "\n",
        "Answer: d. the fraction of time it is high"
      ]
    }
  ]
}