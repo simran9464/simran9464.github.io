{
  "nbformat": 4,
  "nbformat_minor": 0,
  "metadata": {
    "colab": {
      "name": "quizz_03.ipynb",
      "provenance": []
    },
    "kernelspec": {
      "name": "python3",
      "display_name": "Python 3"
    }
  },
  "cells": [
    {
      "cell_type": "markdown",
      "metadata": {
        "id": "k_4LpSzwDABk"
      },
      "source": [
        "# **Module 3 Quiz**"
      ]
    },
    {
      "cell_type": "markdown",
      "metadata": {
        "id": "Z9Zld4gaDGur"
      },
      "source": [
        "**1. An EEPROM is:**\n",
        "\n",
        "Answer: a. non-volatile\n",
        "\n"
      ]
    },
    {
      "cell_type": "markdown",
      "metadata": {
        "id": "Xdny2WSlDqeh"
      },
      "source": [
        "**2. A mask is:**\n",
        "\n",
        "Answer: b. a sequence of bits used to identify bits of interest\n"
      ]
    },
    {
      "cell_type": "markdown",
      "metadata": {
        "id": "dvpqWDMADtuP"
      },
      "source": [
        "\n",
        "**3. Assume that you have a byte but you are interested in only the 2 least significant bits of the byte. Which hexadecimal number represents the mask that you would use to help you?**\n",
        "\n",
        "Answer: c. 0x03\n"
      ]
    },
    {
      "cell_type": "markdown",
      "metadata": {
        "id": "Yts83g1mDwEX"
      },
      "source": [
        "\n",
        "**4. How many wires are used for communication in the I2C protocol?**\n",
        "\n",
        "Answer: a. 2\n"
      ]
    },
    {
      "cell_type": "markdown",
      "metadata": {
        "id": "s4utUGkcDxt8"
      },
      "source": [
        "\n",
        "**5. Which role describes a node that places data on the bus?**\n",
        "\n",
        "Answer: c. Transmitter\n"
      ]
    },
    {
      "cell_type": "markdown",
      "metadata": {
        "id": "zgNdduYUDzVR"
      },
      "source": [
        "\n",
        "**6. When is an Acknowledge bit sent?**\n",
        "\n",
        "Answer: d. after each byte is sent\n"
      ]
    },
    {
      "cell_type": "markdown",
      "metadata": {
        "id": "RnolZFLrD1Zp"
      },
      "source": [
        "\n",
        "**7. True or False: The Wire.write() function buffers data before sending it.**\n",
        "\n",
        "Answer: True\n"
      ]
    },
    {
      "cell_type": "markdown",
      "metadata": {
        "id": "engXIUg9D34g"
      },
      "source": [
        "\n",
        "**8. True or False: The SDA line should never change while the SCL line is high.**\n",
        "\n",
        "Answer: True"
      ]
    }
  ]
}